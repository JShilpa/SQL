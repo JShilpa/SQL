{
 "cells": [
  {
   "cell_type": "code",
   "execution_count": 5,
   "metadata": {},
   "outputs": [],
   "source": [
    "# Standard Imports\n",
    "# Python ships with Sqlite3 module. \n",
    "\n",
    "import sqlite3\n",
    "import pandas as pd\n",
    "\n",
    "# To use the module, create a connection object that represents the database. \n",
    "# Download Sakila DB. \n",
    "# Make sure you keep the copy in the same directory of Jupyter notebook. Use pwd to see your Jupyter directory.\n",
    "\n",
    "conn = sqlite3.connect('sakila-db/sakila.db')"
   ]
  },
  {
   "cell_type": "markdown",
   "metadata": {},
   "source": [
    "### Sqlite3 way of selecting and displaying top 5 records.\n",
    "\n",
    "STEP 1: Create a cursor object. \n",
    "\n",
    "STEP 2: Use Cursor's execute method for our query."
   ]
  },
  {
   "cell_type": "code",
   "execution_count": 18,
   "metadata": {},
   "outputs": [
    {
     "name": "stdout",
     "output_type": "stream",
     "text": [
      "(1, 'Afghanistan', '2011-09-14 18:05:01')\n",
      "(2, 'Algeria', '2011-09-14 18:05:01')\n",
      "(3, 'American Samoa', '2011-09-14 18:05:01')\n",
      "(4, 'Angola', '2011-09-14 18:05:01')\n",
      "(5, 'Anguilla', '2011-09-14 18:05:01')\n"
     ]
    }
   ],
   "source": [
    "cur = conn.cursor()\n",
    "cur.execute('''SELECT * from country LIMIT 5''')\n",
    "for row in cur:\n",
    "    print(row)\n"
   ]
  },
  {
   "cell_type": "markdown",
   "metadata": {},
   "source": [
    "### Using pandas to exceute query and display data in the form of DataFrame\n",
    "\n",
    "Syntax : \n",
    "\n",
    "panda.read_sql('sql query', 'pass sqlite connection object')"
   ]
  },
  {
   "cell_type": "code",
   "execution_count": 17,
   "metadata": {},
   "outputs": [
    {
     "data": {
      "text/html": [
       "<div>\n",
       "<style scoped>\n",
       "    .dataframe tbody tr th:only-of-type {\n",
       "        vertical-align: middle;\n",
       "    }\n",
       "\n",
       "    .dataframe tbody tr th {\n",
       "        vertical-align: top;\n",
       "    }\n",
       "\n",
       "    .dataframe thead th {\n",
       "        text-align: right;\n",
       "    }\n",
       "</style>\n",
       "<table border=\"1\" class=\"dataframe\">\n",
       "  <thead>\n",
       "    <tr style=\"text-align: right;\">\n",
       "      <th></th>\n",
       "      <th>country_id</th>\n",
       "      <th>country</th>\n",
       "      <th>last_update</th>\n",
       "    </tr>\n",
       "  </thead>\n",
       "  <tbody>\n",
       "    <tr>\n",
       "      <th>0</th>\n",
       "      <td>1</td>\n",
       "      <td>Afghanistan</td>\n",
       "      <td>2011-09-14 18:05:01</td>\n",
       "    </tr>\n",
       "    <tr>\n",
       "      <th>1</th>\n",
       "      <td>2</td>\n",
       "      <td>Algeria</td>\n",
       "      <td>2011-09-14 18:05:01</td>\n",
       "    </tr>\n",
       "    <tr>\n",
       "      <th>2</th>\n",
       "      <td>3</td>\n",
       "      <td>American Samoa</td>\n",
       "      <td>2011-09-14 18:05:01</td>\n",
       "    </tr>\n",
       "    <tr>\n",
       "      <th>3</th>\n",
       "      <td>4</td>\n",
       "      <td>Angola</td>\n",
       "      <td>2011-09-14 18:05:01</td>\n",
       "    </tr>\n",
       "    <tr>\n",
       "      <th>4</th>\n",
       "      <td>5</td>\n",
       "      <td>Anguilla</td>\n",
       "      <td>2011-09-14 18:05:01</td>\n",
       "    </tr>\n",
       "  </tbody>\n",
       "</table>\n",
       "</div>"
      ],
      "text/plain": [
       "   country_id         country          last_update\n",
       "0           1     Afghanistan  2011-09-14 18:05:01\n",
       "1           2         Algeria  2011-09-14 18:05:01\n",
       "2           3  American Samoa  2011-09-14 18:05:01\n",
       "3           4          Angola  2011-09-14 18:05:01\n",
       "4           5        Anguilla  2011-09-14 18:05:01"
      ]
     },
     "execution_count": 17,
     "metadata": {},
     "output_type": "execute_result"
    }
   ],
   "source": [
    "sql_query = '''SELECT * from country'''\n",
    "\n",
    "sql_df = pd.read_sql(sql_query, conn)\n",
    "\n",
    "sql_df.head()"
   ]
  }
 ],
 "metadata": {
  "kernelspec": {
   "display_name": "Python 3",
   "language": "python",
   "name": "python3"
  },
  "language_info": {
   "codemirror_mode": {
    "name": "ipython",
    "version": 3
   },
   "file_extension": ".py",
   "mimetype": "text/x-python",
   "name": "python",
   "nbconvert_exporter": "python",
   "pygments_lexer": "ipython3",
   "version": "3.6.3"
  }
 },
 "nbformat": 4,
 "nbformat_minor": 2
}
